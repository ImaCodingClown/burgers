{
 "cells": [
  {
   "cell_type": "code",
   "execution_count": 1,
   "metadata": {},
   "outputs": [],
   "source": [
    "%matplotlib inline\n",
    "import os\n",
    "import numpy as np\n",
    "import matplotlib.pyplot as plt"
   ]
  },
  {
   "cell_type": "code",
   "execution_count": 22,
   "metadata": {},
   "outputs": [],
   "source": [
    "Nghost = 2 # Number of ghost zones\n",
    "\n",
    "# Define a class to hold the parameters of the hydrodynamics simulation\n",
    "# and run the sim and handled the results\n",
    "class Burgers(object):\n",
    "    def __init__(self, Ncells, IC, outCad=0): \n",
    "        self._outCad = outCad\n",
    "        self._t = 0.0\n",
    "        self._N = Ncells+2*Nghost\n",
    "        self._dx = 1.0/Ncells \n",
    "        self._x = np.linspace((0.5-Nghost)*self._dx,1+(Nghost-0.5)*self._dx, Ncells+2*Nghost)\n",
    "        self._u = self._getIC(IC, self._x) \n",
    "        self._dt = 0.25*self._dx\n",
    "    def _getIC(self,IC, x):\n",
    "        if (IC==\"sine\"):\n",
    "            return 0.35+0.25*np.sin(4.0*np.pi*x)\n",
    "        elif (IC==\"step\"):\n",
    "            f = np.ones_like(x)\n",
    "            f[abs(x-0.5)<0.25] = 0.5\n",
    "            return f\n",
    "        else:\n",
    "            raise ValueError(\"IC undefined\")       \n",
    "    # def _minmod(self, u)\n",
    "        \n",
    "    def _physFlux(self, u):\n",
    "        return 0.5*u**2\n",
    "    def _flux(self, ul, ur): #ul/ur is left/right of interface\n",
    "        # using Roe's method to compute flux\n",
    "        uavg = 0.5*(ul+ur)\n",
    "        delta = ur-ul\n",
    "        #No shock capturing\n",
    "        return (\n",
    "                0.5*(self._physFlux(ul)+self._physFlux(ur))#No shock capturing\n",
    "#                 -0.5*abs(uavg)*delta\n",
    "               )\n",
    "    def _uPlusMinus(self, u):\n",
    "        #Linear interpolation to interface\n",
    "        up = 1.0*u\n",
    "        up[:-1] = 0.5*(u[1:]+u[:-1])\n",
    "        um = 1.0*u\n",
    "        um[1:] = 0.5*(u[1:]+u[:-1])\n",
    "        return (up,um)\n",
    "        # Min-mod\n",
    "#         slope = np.zeros_like(u) #intialize array for the slope\n",
    "#         deltau = u[1:]-u[:-1]\n",
    "#         slope[1:-1] = deltau[1:] #initialze the slope as deltau\n",
    "#         slope[1:-1][abs(deltau[1:])>abs(deltau[:-1])] = deltau[:-1][abs(deltau[1:])>abs(deltau[:-1])] #if deltau[1:] > dletau[:-1] then the slope is deltau[:-1]\n",
    "#         slope[1:-1][abs(deltau[1:])*abs(deltau[:-1])<=0] = 0\n",
    "#         return (u+0.5*slope,u-0.5*slope)\n",
    "    def _udot(self, u):\n",
    "        #Calculate left and right hand states at interfaces\n",
    "        up,um = self._uPlusMinus(u)\n",
    "        F = np.zeros(len(u)+1)\n",
    "        #Calculate flux at interfaces\n",
    "        F[1:-1] = self._flux(up[:-1],um[1:])\n",
    "        return (1.0/self._dx)*(F[:-1]-F[1:])\n",
    "    def _applyBC(self, u):\n",
    "        #Copy over ghost cells assuming periodic BCs\n",
    "        ubc = 1.0*u\n",
    "        ubc[0:Nghost] = u[-(2*Nghost):-Nghost]\n",
    "        ubc[-Nghost:] = u[Nghost:2*Nghost]\n",
    "        return ubc\n",
    "    def _step(self):\n",
    "        #Use Runge-Kutta 2\n",
    "        uhalf = self._u + 0.5*self._dt*self._udot(self._u)\n",
    "        uhalf = self._applyBC(uhalf)\n",
    "        self._u += self._dt*self._udot(uhalf)\n",
    "        self._u = self._applyBC(self._u)\n",
    "        self._t += self._dt\n",
    "    def evolve(self, tf, save=True, show=False):\n",
    "        while(self._t<tf):\n",
    "            if (self._outCad>0): self._output(save=save, show=show)\n",
    "            self._step()\n",
    "            if (round(self._t,8)==0.20): np.savetxt(\"50ncells0.2tnosl.txt\", self._u[Nghost:-Nghost])\n",
    "        if (self._outCad>0): self._output(save=save, show=show)\n",
    "    def _output(self, save=True, show=False):\n",
    "        nstep = np.rint(self._t/self._dt)\n",
    "        if (nstep%self._outCad!=0): return\n",
    "        plt.clf()\n",
    "        plt.ylabel(r\"u\")\n",
    "        plt.xlabel(r\"x\")\n",
    "        plt.title(\"t=%1.2f\"%self._t)\n",
    "        plt.plot(self._x[Nghost:-Nghost], self._u[Nghost:-Nghost], \"k-\")\n",
    "        #plt.ylim([0.1,0.6])\n",
    "        if show:\n",
    "            plt.show()\n",
    "        if save:\n",
    "            plt.savefig(\"fig_%d.png\" % (nstep/self._outCad)) \n",
    "    def plotReconstruction(self):\n",
    "        up,um = self._uPlusMinus(self._u)\n",
    "        stencil = 0.5*self._dx*np.array([-1,0,1])\n",
    "        plt.plot(self._x[Nghost:-Nghost],self._u[Nghost:-Nghost],\"ro\")\n",
    "        for n in range(Nghost,self._N-Nghost):\n",
    "            plt.plot(stencil+self._x[n],[um[n],self._u[n],up[n]],\"k\")\n",
    "        plt.xlabel(r\"$x$\")\n",
    "        plt.ylabel(r\"$u$\")\n",
    "        plt.show()\n",
    "    def getSoln(self):\n",
    "        return self._u[Nghost:-Nghost]\n",
    "    def getDomain(self):\n",
    "        return self._x[Nghost:-Nghost]\n",
    "    def getMass(self):\n",
    "        return self._dx*np.sum(self._u[Nghost:-Nghost])\n"
   ]
  },
  {
   "cell_type": "code",
   "execution_count": 23,
   "metadata": {},
   "outputs": [
    {
     "data": {
      "image/png": "[encoded data removed]",
      "text/plain": [
       "<Figure size 432x288 with 1 Axes>"
      ]
     },
     "metadata": {
      "needs_background": "light"
     },
     "output_type": "display_data"
    }
   ],
   "source": [
    "# delete output files from a possible previous run\n",
    "os.system('rm fig*.png animation.mp4')\n",
    "\n",
    "# Parameter values:\n",
    "\n",
    "# Number of cells in the simulation\n",
    "Ncells = 50\n",
    "\n",
    "# Initial conditions -- 'sine' or 'step'\n",
    "IC = 'sine'\n",
    "\n",
    "# Output cadence -- how often to produce a plot\n",
    "outCad = 8\n",
    "\n",
    "# Final time -- how long to run the simulation for\n",
    "tf = 1.0\n",
    "\n",
    "burgers = Burgers(Ncells, IC, outCad=outCad)\n",
    "# If you pass 'show=True', it will display a series of plots;\n",
    "# if you pass 'save=True' (the default), it will also save a series of .png plots...\n",
    "burgers.evolve(tf, save=True)\n",
    "\n",
    "# ... which you can convert into a movie \"animation.mp4\".\n",
    "# If you're running on Symmetry, you will have to download the animation.mp4 file to your computer to view it.\n",
    "os.system('ffmpeg -r 12 -i fig_%d.png -qscale:v 0 -pix_fmt yuv420p -c:v libx264 -crf 20 -r 24 animation.mp4');"
   ]
  },
  {
   "cell_type": "code",
   "execution_count": null,
   "metadata": {},
   "outputs": [],
   "source": [
    "wr"
   ]
  },
  {
   "cell_type": "code",
   "execution_count": null,
   "metadata": {},
   "outputs": [],
   "source": [
    "dt"
   ]
  },
  {
   "cell_type": "code",
   "execution_count": null,
   "metadata": {},
   "outputs": [],
   "source": []
  }
 ],
 "metadata": {
  "kernelspec": {
   "display_name": "Python 3",
   "language": "python",
   "name": "python3"
  },
  "language_info": {
   "codemirror_mode": {
    "name": "ipython",
    "version": 3
   },
   "file_extension": ".py",
   "mimetype": "text/x-python",
   "name": "python",
   "nbconvert_exporter": "python",
   "pygments_lexer": "ipython3",
   "version": "3.7.4"
  }
 },
 "nbformat": 4,
 "nbformat_minor": 4
}
